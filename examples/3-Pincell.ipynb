{
 "cells": [
  {
   "cell_type": "markdown",
   "metadata": {},
   "source": [
    "# Nuclear Reactor \"Pincell\" Example\n",
    "In this example, we will demonstrate the creation of a simple 3D geometry. We will build a 3D \"pincell\" that is common in many pressurized water reactor geometries. It is basically a very long rectangular prism with a fuel cylinder runing through the middle of it lengthwise. The fuel cylinder is surrounded by a thin metal cladding region, with a very thin gap region between the fuel and the cladding. The area outside the cladding is the coolant. In this example, we will have the outer boundaries of the problems use a reflective boundary condition. The pincell will have the following dimensions:\n",
    "\n",
    "Height = 300 cm\n",
    "\n",
    "Pitch = 1.26 cm\n",
    "\n",
    "Fuel Radius = 0.4096 cm\n",
    "\n",
    "Inner Clad Radius = 0.4180 cm\n",
    "\n",
    "Outer Clad Radius = 0.4750 cm"
   ]
  },
  {
   "cell_type": "code",
   "execution_count": 1,
   "metadata": {
    "collapsed": true
   },
   "outputs": [],
   "source": [
    "# Load the Library\n",
    "using ConstructiveSolidGeometry"
   ]
  },
  {
   "cell_type": "markdown",
   "metadata": {},
   "source": [
    "## 1 - Define Surfaces of the Problem\n",
    "\n",
    "Let's start with the rectangular prism boundaries (i.e., 6 planes).\n",
    "\n",
    "A **Plane** is defined by a point on the surface of the plane and the plane's unit normal vector. Both are specified in terms of a **Coord** object, which has three Float64 components x, y, and z corresponding to the vector's magnitude in each 3D cartesian direction.\n",
    "\n",
    "We can also select a boundary condition to assign to that surface that the user will be notified of at each collision. By default if no condition is specified, a transmission boundary is used allowing for a ray to pass through the surface without changing direction. Reflective or vacuum boundaries can also be specified by passing strings as the last argument of the surface constructor. The package will automatically enforce reflective boundary conditions. Vacuum boundaries behave identically to transmission boundaries, though the user may wish to enforce some other physics on the ray when a vacuum is encountered (or terminate the ray altogether)."
   ]
  },
  {
   "cell_type": "code",
   "execution_count": 2,
   "metadata": {
    "collapsed": false
   },
   "outputs": [],
   "source": [
    "top =   Plane(Coord(0.0, 0.0, 150.0),  unitize(Coord(0.0, 0.0, 1.0)),  \"reflective\")\n",
    "bot =   Plane(Coord(0.0, 0.0, -150.0), unitize(Coord(0.0, 0.0, -1.0)), \"reflective\")\n",
    "left =  Plane(Coord(-.63, 0.0, 0.0),   unitize(Coord(-1.0, 0.0, 0.0)), \"reflective\")\n",
    "right = Plane(Coord(0.63, 0.0, 0.0),   unitize(Coord(1.0, 0.0, 0.0)),  \"reflective\")\n",
    "up =    Plane(Coord(0.0, 0.63, 0.0),   unitize(Coord(0.0, 1.0, 0.0)),  \"reflective\")\n",
    "down =  Plane(Coord(0.0, -0.63, 0.0),  unitize(Coord(0.0, -1.0, 0.0)), \"reflective\");"
   ]
  },
  {
   "cell_type": "markdown",
   "metadata": {},
   "source": [
    "Now let's specify the infinite cylinder that will form the structure of the fuel, gap, and cladding regions.\n",
    "\n",
    "An **InfCylinder** is created by specifying a point along the central axis, the axial direction unit vector, and a radius. The point and directional vector are taken in the form of a **Coord** object. Note that these are transmission surfaces, as no boundary condition is specified."
   ]
  },
  {
   "cell_type": "code",
   "execution_count": 3,
   "metadata": {
    "collapsed": false
   },
   "outputs": [],
   "source": [
    "clad_outer = InfCylinder(Coord(0.0, 0.0, 0.0), unitize(Coord(0.0, 0.0, 1.0)), 0.4750)\n",
    "clad_inner = InfCylinder(Coord(0.0, 0.0, 0.0), unitize(Coord(0.0, 0.0, 1.0)), 0.4180)\n",
    "fuel =       InfCylinder(Coord(0.0, 0.0, 0.0), unitize(Coord(0.0, 0.0, 1.0)), 0.4096);"
   ]
  },
  {
   "cell_type": "markdown",
   "metadata": {},
   "source": [
    "## 2  - Define the Halfspace Regions of the Problem\n",
    "Now we want to start building up our geometry using the surfaces we just defined. Each geometrical area, known as a **Cell**, is constructed logically out of any number of surfaces and their accompanying halfspaces. Surfaces divide all of space into two regions, positive and negative, according to the equation of the surface. For example, the negative halfspace of a sphere is the volume inside it, while the positive halfspace of a sphere is all space outside the sphere. We call each combination of a **Surface** and its halfspace sign a **Region**.\n",
    "\n",
    "We will begin by creating an empty array of **Cell** objects to store the new cells as we make them. This will eventually hold the water, cladding, gap, and fuel cells of our geometry. We also create an empty array of **Region** objects to hold the halfspace regions that define the water cell."
   ]
  },
  {
   "cell_type": "code",
   "execution_count": 4,
   "metadata": {
    "collapsed": false
   },
   "outputs": [],
   "source": [
    "cells = Cell[]\n",
    "regions = Region[]"
   ]
  },
  {
   "cell_type": "markdown",
   "metadata": {},
   "source": [
    "We begin by defining a set of regions which will be used to bound the water cell. A **Region** is defined as a surface and the sign of the halfspace that defines that region of space. I.e., a Region is created by a surface and a +1 or -1 integer. It is important to note that a plane may have two valid unit normals that are opposites of each other, but will affect the sign of the halfspace. Keep in mind that the (+) side of a plane's halfspace is on the side the normal points to."
   ]
  },
  {
   "cell_type": "code",
   "execution_count": 5,
   "metadata": {
    "collapsed": false
   },
   "outputs": [],
   "source": [
    "push!(regions, Region(top, -1))\n",
    "push!(regions, Region(bot, -1))\n",
    "push!(regions, Region(left, -1))\n",
    "push!(regions, Region(right, -1))\n",
    "push!(regions, Region(up, -1))\n",
    "push!(regions, Region(down, -1))\n",
    "push!(regions, Region(clad_outer, 1));"
   ]
  },
  {
   "cell_type": "markdown",
   "metadata": {},
   "source": [
    "# 3 - Define a Cell Using Logical Operators\n",
    "Now we define the logical manner in which we can combine the above regions to create the volume of the cell. In this library, we can use the intersection operator **^**, the union operator **|**, and the complement operator **~**. We define this logical operation using a Julia expression, which is wrapped by :() to indicate that it is an expression. Here, our halfspaces are defined so that we just want the simple intersection of all the regions. The numbers we used to identify the regions are the same as their indices in the regions array we just created."
   ]
  },
  {
   "cell_type": "code",
   "execution_count": 6,
   "metadata": {
    "collapsed": false
   },
   "outputs": [
    {
     "data": {
      "text/plain": [
       ":(1 ^ (2 ^ (3 ^ (4 ^ (5 ^ (6 ^ 7))))))"
      ]
     },
     "execution_count": 6,
     "metadata": {},
     "output_type": "execute_result"
    }
   ],
   "source": [
    "ex = :(1 ^ 2 ^ 3 ^ 4 ^ 5 ^ 6 ^ 7)"
   ]
  },
  {
   "cell_type": "markdown",
   "metadata": {},
   "source": [
    "With that done, we can create the water cell and push it to our cells array that we made earlier. A new **Cell** is made by specifying the array of regions and the logical expression that defines the cell."
   ]
  },
  {
   "cell_type": "code",
   "execution_count": 7,
   "metadata": {
    "collapsed": false
   },
   "outputs": [],
   "source": [
    "push!(cells, Cell(regions, ex));"
   ]
  },
  {
   "cell_type": "markdown",
   "metadata": {},
   "source": [
    "# 4 - Continue Making Cells\n",
    "Now we do the same thing for the gap, cladding, and water regions"
   ]
  },
  {
   "cell_type": "code",
   "execution_count": 8,
   "metadata": {
    "collapsed": false
   },
   "outputs": [],
   "source": [
    "# Make the Cladding Cell\n",
    "regions = Region[]\n",
    "\n",
    "push!(regions, Region(top, -1))\n",
    "push!(regions, Region(bot, -1))\n",
    "push!(regions, Region(clad_outer, -1))\n",
    "push!(regions, Region(clad_inner, 1))\n",
    "\n",
    "ex = :(1 ^ 2 ^ 3 ^ 4)\n",
    "\n",
    "push!(cells, Cell(regions, ex))\n",
    "\n",
    "# Make the Gap Cell\n",
    "regions = Region[]\n",
    "\n",
    "push!(regions, Region(top, -1))\n",
    "push!(regions, Region(bot, -1))\n",
    "push!(regions, Region(clad_inner, -1))\n",
    "push!(regions, Region(fuel, 1))\n",
    "\n",
    "ex = :(1 ^ 2 ^ 3 ^ 4)\n",
    "\n",
    "push!(cells, Cell(regions, ex))\n",
    "\n",
    "# Make the Fuel Cell\n",
    "regions = Region[]\n",
    "\n",
    "push!(regions, Region(top, -1))\n",
    "push!(regions, Region(bot, -1))\n",
    "push!(regions, Region(fuel, -1))\n",
    "\n",
    "ex = :(1 ^ 2 ^ 3)\n",
    "\n",
    "push!(cells, Cell(regions, ex));"
   ]
  },
  {
   "cell_type": "markdown",
   "metadata": {},
   "source": [
    "# 5 - Store Cells In a Geometry Object\n",
    "A **Geometry** object holds an array of cells and a bounding **Box** that defines the scope of our problem. A **Box** object is an axis aligned 3D box defined by its lower left (minimum) corner and its upper right (maximum) corner."
   ]
  },
  {
   "cell_type": "code",
   "execution_count": 9,
   "metadata": {
    "collapsed": false
   },
   "outputs": [],
   "source": [
    "bounding_box = Box(Coord(-.63, -.63, -150), Coord(.63, .63, 150))\n",
    "\n",
    "geometry = Geometry(cells, bounding_box);"
   ]
  },
  {
   "cell_type": "markdown",
   "metadata": {},
   "source": [
    "# 6 - Plot a 2D Slice of the Geometry to Check Correctness\n",
    "To make sure that our geometry looks as intended, we will take a 2D slice of the problem space and plot it. This can be accomplished using the function **plot_geometry_2D(geometry::Geometry, view::Box, dim::Int64)** which takes a **Geometry** object, a view, and the pixel dimension resolution of the plot. The view is a 2D box (in x and y) that defines what will be plotted. The z dimension should be the same for lower_left and upper_right, and represents where the slice is taken."
   ]
  },
  {
   "cell_type": "code",
   "execution_count": 10,
   "metadata": {
    "collapsed": false
   },
   "outputs": [
    {
     "data": {
      "text/html": [
       "<img src=\"data:image/png;base64,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\" />"
      ]
     },
     "execution_count": 10,
     "metadata": {},
     "output_type": "execute_result"
    }
   ],
   "source": [
    "plot_geometry_2D(geometry, Box(Coord(-0.63, -0.63, 0), Coord(.63, 0.63, 0)), 1000)"
   ]
  },
  {
   "cell_type": "markdown",
   "metadata": {},
   "source": [
    "We can also highlight a single cell within the geometry by using the function **plot_cell_2D(geometry::Geometry, view::Box, dim::Int64, cell_id::Int64)**, which is similar in function to the plot_geometry_2D() function, but also takes an additional argument indicating which cell to plot in black. Below, we plot the cladding cell."
   ]
  },
  {
   "cell_type": "code",
   "execution_count": 11,
   "metadata": {
    "collapsed": false
   },
   "outputs": [
    {
     "data": {
      "text/html": [
       "<img src=\"data:image/png;base64,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\" />"
      ]
     },
     "execution_count": 11,
     "metadata": {},
     "output_type": "execute_result"
    }
   ],
   "source": [
    "plot_cell_2D(geometry, Box(Coord(-0.63, -0.63, 0), Coord(.63, 0.63, 0)), 1000, 2)"
   ]
  },
  {
   "cell_type": "markdown",
   "metadata": {},
   "source": [
    "# 6 - Begin Ray Tracing\n",
    "At this point, we have a complete **Geometry** object that we can use to perform computations with. Let's test it by performing a standard ray trace operation. We utilize the generate_random_ray function to generate a **Ray** of random direction whose origin is uniformly distributed within a bounding box. "
   ]
  },
  {
   "cell_type": "code",
   "execution_count": 12,
   "metadata": {
    "collapsed": true
   },
   "outputs": [],
   "source": [
    "ray = generate_random_ray(geometry.bounding_box);"
   ]
  },
  {
   "cell_type": "markdown",
   "metadata": {},
   "source": [
    "We can then find the point where the ray will intersect with next using the find_intersection function. This function returns a new **Ray** object that is at the location where the intersection occurs and with the updated direction if a reflection occured. The location has already been \"nudged\" slightly so that when the ray is next evaluated it will not result in an unpredictable evaluation due to the origin still being within machine precision distance of a surface. The function also returns the id of the surface that it intersected with as well as the boundary criteria of that surface. This is useful as in some cases one may wish to act upon the ray when it hits a reflective or vacuum boundary condition."
   ]
  },
  {
   "cell_type": "code",
   "execution_count": 13,
   "metadata": {
    "collapsed": false
   },
   "outputs": [
    {
     "name": "stdout",
     "output_type": "stream",
     "text": [
      "Ray moved 0.06004697964739698 [cm] before hitting a transmission boundary\n"
     ]
    }
   ],
   "source": [
    "# Perform a single step of ray tracing on the geometry\n",
    "new_ray, id, boundary_type = find_intersection(ray, geometry)\n",
    "\n",
    "# Compute distance travelled by the ray\n",
    "distance = magnitude( new_ray.origin - ray.origin )\n",
    "\n",
    "println(\"Ray moved \", distance, \" [cm] before hitting a \", boundary_type, \" boundary\")"
   ]
  }
 ],
 "metadata": {
  "anaconda-cloud": {},
  "kernelspec": {
   "display_name": "Julia 0.5.0",
   "language": "julia",
   "name": "julia-0.5"
  },
  "language_info": {
   "file_extension": ".jl",
   "mimetype": "application/julia",
   "name": "julia",
   "version": "0.5.0"
  }
 },
 "nbformat": 4,
 "nbformat_minor": 1
}